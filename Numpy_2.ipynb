{
 "cells": [
  {
   "cell_type": "code",
   "execution_count": 1,
   "metadata": {},
   "outputs": [],
   "source": [
    "import numpy as np"
   ]
  },
  {
   "cell_type": "code",
   "execution_count": null,
   "metadata": {},
   "outputs": [
    {
     "name": "stdout",
     "output_type": "stream",
     "text": [
      "Diagonal Elements: [10 50 90]\n"
     ]
    }
   ],
   "source": [
    "arr = np.array([[10, 20, 30], [40, 50, 60], [70, 80, 90]])\n",
    "\n",
    "diagonal = np.diagonal(arr)     # np.diagonal fonksiyonu, matrisin köşegenindeki elemanları döner.\n",
    "\n",
    "print(\"Diagonal Elements:\", diagonal)"
   ]
  },
  {
   "cell_type": "code",
   "execution_count": 3,
   "metadata": {},
   "outputs": [
    {
     "name": "stdout",
     "output_type": "stream",
     "text": [
      "[[51 92 14]\n",
      " [71 60 20]\n",
      " [82 86 74]]\n"
     ]
    }
   ],
   "source": [
    "np.random.seed(42)  # Rastgele sayı üretimi için aynı sonuçları elde etmek.\n",
    "\n",
    "random_array = np.random.randint(0, 100, (3, 3))\n",
    "\n",
    "print(random_array)"
   ]
  },
  {
   "cell_type": "code",
   "execution_count": null,
   "metadata": {},
   "outputs": [],
   "source": [
    "arr = np.array([[1, 2], [3, 4], [5, 6]])\n",
    "\n",
    "flattened = arr.flatten()      # Çok boyutlu bir array, tek boyutlu hale getirilir.\n",
    "\n",
    "print(flattened)"
   ]
  },
  {
   "cell_type": "code",
   "execution_count": null,
   "metadata": {},
   "outputs": [],
   "source": [
    "arr = np.array([10, 20, 30, 40, 50])\n",
    "\n",
    "indices = [1, 3, 4]      # Belirli indexlerin elemanlarına toplu olarak erişmek için kullanılır.\n",
    "\n",
    "print(arr[indices])"
   ]
  },
  {
   "cell_type": "code",
   "execution_count": 4,
   "metadata": {},
   "outputs": [
    {
     "name": "stdout",
     "output_type": "stream",
     "text": [
      "[10 20 30]\n"
     ]
    }
   ],
   "source": [
    "arr = np.array([10, 15, 20, 25, 30])\n",
    "\n",
    "mask = arr % 2 == 0  # Çift sayılar için maske\n",
    "\n",
    "print(arr[mask])"
   ]
  },
  {
   "cell_type": "code",
   "execution_count": null,
   "metadata": {},
   "outputs": [],
   "source": [
    "a = np.array([1, 2, 3])\n",
    "\n",
    "b = np.array([4, 5, 6])\n",
    "\n",
    "merged = np.concatenate((a, b))    # np.concatenate iki veya daha fazla array'i birleştirir.\n",
    "\n",
    "print(merged)"
   ]
  },
  {
   "cell_type": "code",
   "execution_count": null,
   "metadata": {},
   "outputs": [
    {
     "name": "stdout",
     "output_type": "stream",
     "text": [
      "[[1 2 5]\n",
      " [3 4 6]]\n"
     ]
    }
   ],
   "source": [
    "arr = np.array([[1, 2], [3, 4]])\n",
    "\n",
    "new_column = np.array([[5], [6]])\n",
    "\n",
    "result = np.hstack((arr, new_column))   # np.hstack yatayda (sütun ekleme), np.vstack ise dikeyde (satır ekleme) array'leri birleştirir.\n",
    "\n",
    "print(result)"
   ]
  },
  {
   "cell_type": "code",
   "execution_count": null,
   "metadata": {},
   "outputs": [],
   "source": [
    "arr = np.array([50, 10, 40, 20, 30])\n",
    "\n",
    "sorted_arr = np.sort(arr)     # np.sort array elemanlarını küçükten büyüğe sıralar.\n",
    "\n",
    "print(sorted_arr)"
   ]
  },
  {
   "cell_type": "code",
   "execution_count": null,
   "metadata": {},
   "outputs": [],
   "source": [
    "arr = np.array([1, 2, 2, 3, 4, 4, 5])\n",
    "\n",
    "unique_elements = np.unique(arr)    # np.unique, bir array'deki benzersiz elemanları döner.\n",
    "\n",
    "print(unique_elements)"
   ]
  },
  {
   "cell_type": "code",
   "execution_count": null,
   "metadata": {},
   "outputs": [
    {
     "name": "stdout",
     "output_type": "stream",
     "text": [
      "Histogram: [13  9  7  8  9 15  9 10 13  7]\n",
      "Bins: [ 1.  10.8 20.6 30.4 40.2 50.  59.8 69.6 79.4 89.2 99. ]\n"
     ]
    }
   ],
   "source": [
    "data = np.random.randint(0, 100, 100)  # 100 elemanlı rastgele veri\n",
    "\n",
    "hist, bins = np.histogram(data, bins=10)    # np.histogram ile veriler belirli aralıklara bölünerek histogram elde edilir.\n",
    "\n",
    "print(\"Histogram:\", hist)\n",
    "\n",
    "print(\"Bins:\", bins)"
   ]
  }
 ],
 "metadata": {
  "kernelspec": {
   "display_name": "Python 3",
   "language": "python",
   "name": "python3"
  },
  "language_info": {
   "codemirror_mode": {
    "name": "ipython",
    "version": 3
   },
   "file_extension": ".py",
   "mimetype": "text/x-python",
   "name": "python",
   "nbconvert_exporter": "python",
   "pygments_lexer": "ipython3",
   "version": "3.12.6"
  }
 },
 "nbformat": 4,
 "nbformat_minor": 2
}
